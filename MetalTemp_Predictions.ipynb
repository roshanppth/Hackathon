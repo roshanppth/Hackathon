{
 "cells": [
  {
   "cell_type": "code",
   "execution_count": null,
   "metadata": {
    "id": "M5FAe-5CYWin"
   },
   "outputs": [],
   "source": [
    "import numpy as np\n",
    "import pandas as pd\n",
    "\n",
    "import matplotlib.pyplot as plt\n",
    "import seaborn as sns\n",
    "sns.set_style('darkgrid')\n",
    "\n",
    "from sklearn.preprocessing import StandardScaler\n",
    "from sklearn.model_selection import train_test_split\n",
    "from sklearn.ensemble import RandomForestRegressor\n",
    "\n",
    "from keras.models import Sequential\n",
    "from keras.layers import Dense\n",
    "\n",
    "from sklearn import metrics"
   ]
  },
  {
   "cell_type": "code",
   "execution_count": null,
   "metadata": {
    "id": "buZv1L5EZEQ_"
   },
   "outputs": [],
   "source": [
    "Big_data_imputed = pd.read_csv('BigData_imputed.csv')\n",
    "Fur_merged = pd.read_csv('furnace_cylce_merged.csv')\n",
    "Fur_merged_final = pd.read_csv('furnace_cylce_merged_final.csv')"
   ]
  },
  {
   "cell_type": "code",
   "execution_count": null,
   "metadata": {
    "id": "uGZCt3vBjNLX"
   },
   "outputs": [],
   "source": [
    "Fur_merged=Fur_merged.dropna()\n",
    "Fur_merged_final=Fur_merged_final.dropna()"
   ]
  },
  {
   "cell_type": "code",
   "execution_count": null,
   "metadata": {
    "id": "U3fE_soDZ4wT"
   },
   "outputs": [],
   "source": [
    "#split data into training and test data.\n",
    "x1 = Big_data_imputed[['Current_Roof_Temp']].values\n",
    "y1 = Big_data_imputed[['Metal_Temp']].values\n",
    "#split data into training and test data.\n",
    "x2 = Fur_merged[['Mins', 'Current_Roof_Temp']].values\n",
    "y2 = Fur_merged[['Metal_Temp']].values\n",
    "#split data into training and test data.\n",
    "x3 = Fur_merged_final[['Mins', 'Current_Roof_Temp', 'roof_temperature_1','roof_temperature_2']].values\n",
    "y3 = Fur_merged_final[['Metal_Temp']].values"
   ]
  },
  {
   "cell_type": "code",
   "execution_count": null,
   "metadata": {
    "id": "GLEKiXR5apsf"
   },
   "outputs": [],
   "source": [
    "from sklearn.model_selection import train_test_split\n",
    "x1_train, x1_test, y1_train, y1_test = train_test_split(x1,y1, test_size = 0.3, random_state = 65)\n",
    "x2_train, x2_test, y2_train, y2_test = train_test_split(x2,y2, test_size = 0.3, random_state = 66)\n",
    "x3_train, x3_test, y3_train, y3_test = train_test_split(x3,y3, test_size = 0.3, random_state = 67)"
   ]
  },
  {
   "cell_type": "markdown",
   "metadata": {
    "id": "FNJRTkHFb6DC"
   },
   "source": [
    "ANN Model"
   ]
  },
  {
   "cell_type": "code",
   "execution_count": null,
   "metadata": {
    "colab": {
     "base_uri": "https://localhost:8080/"
    },
    "id": "jCCEaz9Abvz1",
    "outputId": "23d5b323-00a0-4660-f3e5-94b84797eb52"
   },
   "outputs": [],
   "source": [
    "#Import deeplearning libraries\n",
    "from keras.models import Sequential\n",
    "from keras.layers import Dense\n",
    " \n",
    "# create ANN model\n",
    "model_ann = Sequential()\n",
    " \n",
    "# Defining the Input layer and FIRST hidden layer, both are same!\n",
    "model_ann.add(Dense(units=20, input_dim=1, kernel_initializer='normal', activation='relu'))\n",
    " \n",
    "# Defining the Second layer of the model\n",
    "# after the first layer we don't have to specify input_dim as keras configure it automatically\n",
    "model_ann.add(Dense(units=20, kernel_initializer='normal', activation='tanh'))\n",
    " \n",
    "# The output neuron is a single fully connected node \n",
    "# Since we will be predicting a single number\n",
    "model_ann.add(Dense(1, kernel_initializer='normal'))\n",
    " \n",
    "# Compiling the model\n",
    "model_ann.compile(loss='mean_squared_error', optimizer='adam')\n",
    " \n",
    "# Fitting the ANN to the Training set\n",
    "model_ann.fit(x1_train, y1_train ,batch_size = 20, epochs = 25, verbose=1)"
   ]
  },
  {
   "cell_type": "code",
   "execution_count": null,
   "metadata": {
    "colab": {
     "base_uri": "https://localhost:8080/"
    },
    "id": "rlD2fPQ5h0N4",
    "outputId": "b097ebf1-717b-4663-92de-cd0f565d74a4"
   },
   "outputs": [],
   "source": [
    "#Import deeplearning libraries\n",
    "from keras.models import Sequential\n",
    "from keras.layers import Dense\n",
    " \n",
    "# create ANN model\n",
    "model_ann1 = Sequential()\n",
    " \n",
    "# Defining the Input layer and FIRST hidden layer, both are same!\n",
    "model_ann1.add(Dense(units=20, input_dim=2, kernel_initializer='normal', activation='relu'))\n",
    " \n",
    "# Defining the Second layer of the model\n",
    "# after the first layer we don't have to specify input_dim as keras configure it automatically\n",
    "model_ann1.add(Dense(units=20, kernel_initializer='normal', activation='tanh'))\n",
    " \n",
    "# The output neuron is a single fully connected node \n",
    "# Since we will be predicting a single number\n",
    "model_ann1.add(Dense(1, kernel_initializer='normal'))\n",
    " \n",
    "# Compiling the model\n",
    "model_ann1.compile(loss='mean_squared_error', optimizer='adam')\n",
    " \n",
    "# Fitting the ANN to the Training set\n",
    "\n",
    "model_ann1.fit(x2_train, y2_train ,batch_size = 20, epochs = 25, verbose=1)"
   ]
  },
  {
   "cell_type": "code",
   "execution_count": null,
   "metadata": {
    "colab": {
     "base_uri": "https://localhost:8080/"
    },
    "id": "jbfmJurrh0Sa",
    "outputId": "cf5d0be6-9c23-4d57-f54a-e2ee655ce76c"
   },
   "outputs": [],
   "source": [
    "#Import deeplearning libraries\n",
    "from keras.models import Sequential\n",
    "from keras.layers import Dense\n",
    " \n",
    "# create ANN model\n",
    "model_ann2 = Sequential()\n",
    " \n",
    "# Defining the Input layer and FIRST hidden layer, both are same!\n",
    "model_ann2.add(Dense(units=20, input_dim=4, kernel_initializer='normal', activation='relu'))\n",
    " \n",
    "# Defining the Second layer of the model\n",
    "# after the first layer we don't have to specify input_dim as keras configure it automatically\n",
    "model_ann2.add(Dense(units=20, kernel_initializer='normal', activation='tanh'))\n",
    " \n",
    "# The output neuron is a single fully connected node \n",
    "# Since we will be predicting a single number\n",
    "model_ann2.add(Dense(1, kernel_initializer='normal'))\n",
    " \n",
    "# Compiling the model\n",
    "model_ann2.compile(loss='mean_squared_error', optimizer='adam')\n",
    " \n",
    "# Fitting the ANN to the Training set\n",
    "model_ann2.fit(x3_train, y3_train ,batch_size = 20, epochs = 25, verbose=1)"
   ]
  },
  {
   "cell_type": "markdown",
   "metadata": {
    "id": "G8XUsjtccaFw"
   },
   "source": [
    "Random Forest Regressor"
   ]
  },
  {
   "cell_type": "code",
   "execution_count": null,
   "metadata": {
    "colab": {
     "base_uri": "https://localhost:8080/"
    },
    "id": "2b2mO5xAcZIJ",
    "outputId": "95a0a65e-3f9e-4fb4-fd36-bb8ecc1d204b"
   },
   "outputs": [],
   "source": [
    "from sklearn.ensemble import RandomForestRegressor\n",
    "model_rf = RandomForestRegressor(n_estimators=100, oob_score=True, random_state=100)\n",
    "model_rf1 = RandomForestRegressor(n_estimators=100, oob_score=True, random_state=100)\n",
    "model_rf2 = RandomForestRegressor(n_estimators=100, oob_score=True, random_state=100)\n",
    "model_rf.fit(x1_train, y1_train)\n",
    "model_rf1.fit(x2_train, y2_train) \n",
    "model_rf2.fit(x3_train, y3_train)"
   ]
  },
  {
   "cell_type": "markdown",
   "metadata": {
    "id": "mkg3RmNLknbB"
   },
   "source": [
    "SVM Regressor"
   ]
  },
  {
   "cell_type": "code",
   "execution_count": null,
   "metadata": {
    "colab": {
     "base_uri": "https://localhost:8080/"
    },
    "id": "IiFYFLinktys",
    "outputId": "650b928e-4d44-4c55-8024-68d9e2588a26"
   },
   "outputs": [],
   "source": [
    "#SVM Regression\n",
    "#from sklearn import svm\n",
    "#RegModel = svm.SVR(C=2, kernel='linear')\n",
    "#RegModel1 = svm.SVR(C=2, kernel='linear')\n",
    "#RegModel2 = svm.SVR(C=2, kernel='linear')\n",
    "#Creating the model on Training Data\n",
    "#RegModel.fit(x1_train,y1_train)\n",
    "#RegModel1.fit(x2_train,y2_train)\n",
    "#RegModel2.fit(x3_train,y3_train)"
   ]
  },
  {
   "cell_type": "markdown",
   "metadata": {
    "id": "UHSAZ5olmHza"
   },
   "source": [
    "Gaussian Process"
   ]
  },
  {
   "cell_type": "code",
   "execution_count": null,
   "metadata": {
    "id": "UGMGlP3zmLu7"
   },
   "outputs": [],
   "source": [
    "#GP\n",
    "from sklearn.gaussian_process import GaussianProcessRegressor\n",
    "from sklearn.gaussian_process.kernels import RBF\n",
    "kernel = 1 * RBF(length_scale=1.0, length_scale_bounds=(1e-2, 1e2))\n",
    "gaussian_process = GaussianProcessRegressor(kernel=kernel, n_restarts_optimizer=9)\n",
    "gaussian_process1 = GaussianProcessRegressor(kernel=kernel, n_restarts_optimizer=9)\n",
    "gaussian_process2 = GaussianProcessRegressor(kernel=kernel, n_restarts_optimizer=9)\n",
    "gaussian_process.fit(x1_train, y1_train)\n",
    "gaussian_process1.fit(x2_train, y2_train)\n",
    "gaussian_process2.fit(x3_train, y3_train)\n",
    "gaussian_process.kernel_\n",
    "gaussian_process1.kernel_\n",
    "gaussian_process2.kernel_"
   ]
  },
  {
   "cell_type": "markdown",
   "metadata": {
    "id": "NgKRTqBDdKmL"
   },
   "source": [
    "Prediction"
   ]
  },
  {
   "cell_type": "code",
   "execution_count": null,
   "metadata": {
    "colab": {
     "base_uri": "https://localhost:8080/",
     "height": 835
    },
    "id": "yfCc0QHFdJDy",
    "outputId": "ca22fadb-a6c5-4e9f-f5cb-c1c6cab355e4"
   },
   "outputs": [],
   "source": [
    "#Ann Prediction\n",
    "y1_pred_train_ann= model_ann.predict(y1_test)\n",
    "y2_pred_train_ann= model_ann1.predict(y2_test)\n",
    "y3_pred_train_ann= model_ann2.predict(y3_test)\n"
   ]
  },
  {
   "cell_type": "code",
   "execution_count": null,
   "metadata": {
    "colab": {
     "base_uri": "https://localhost:8080/",
     "height": 363
    },
    "id": "OhYiHuGcrIQj",
    "outputId": "d6102139-f919-4792-b77c-d44bfa1ca445"
   },
   "outputs": [],
   "source": [
    "#Random forest Prediction\n",
    "y1_pred_train_rf= model_rf.predict(y1_test)\n",
    "y2_pred_train_rf= model_rf1.predict(y2_test)\n",
    "y3_pred_train_rf= model_rf2.predict(y3_test)\n"
   ]
  },
  {
   "cell_type": "code",
   "execution_count": null,
   "metadata": {
    "id": "SULbCqrPrUuc"
   },
   "outputs": [],
   "source": [
    "#SVM PRediction\n",
    "prediction=SVM.predict(x1_test)\n",
    "prediction=SVM.predict(x2_test)\n",
    "prediction=SVM.predict(x3_test)\n",
    "pred_train_rf= model_rf.predict(x_train)\n",
    "\n",
    "\n",
    "pred_test_rf = model_rf.predict(x_test)\n",
    "print(np.sqrt(mean_squared_error(y_test,pred_test_rf)))\n",
    "print(r2_score(y_test, pred_test_rf))"
   ]
  },
  {
   "cell_type": "code",
   "execution_count": null,
   "metadata": {
    "colab": {
     "base_uri": "https://localhost:8080/",
     "height": 363
    },
    "id": "a2Ax2SZnrdqp",
    "outputId": "5d28f69d-a504-4f7b-bd24-08b2a3027530"
   },
   "outputs": [],
   "source": [
    "from sklearn.metrics import r2_score, mean_absolute_error, mean_squared_error\n",
    "from sklearn.metrics import r2_score\n",
    "#print(np.sqrt(mean_squared_error(y1_test,y1_pred_train_ann)))\n",
    "#print(np.sqrt(mean_squared_error(y2_test,y2_pred_train_ann)))\n",
    "#print(np.sqrt(mean_squared_error(y3_test,y3_pred_train_ann)))\n",
    "#print(r2_score(y1_test,y1_pred_train_rf))\n",
    "print(r2_score(y2_test,y2_pred_train_rf))\n",
    "print(r2_score(y3_test,y3_pred_train_rf))\n"
   ]
  },
  {
   "cell_type": "code",
   "execution_count": null,
   "metadata": {
    "id": "w7A6J2uWsCM9"
   },
   "outputs": [],
   "source": [
    "print(np.sqrt(mean_squared_error(y_train,pred_train_rf)))\n",
    "print(r2_score(y_train, pred_train_rf))"
   ]
  },
  {
   "cell_type": "code",
   "execution_count": null,
   "metadata": {
    "id": "AbD9vB3Imf0P"
   },
   "outputs": [],
   "source": [
    "mean_prediction, std_prediction = gaussian_process.predict(x1, return_std=True)\n",
    "plt.plot(x1, y1, label=r\"$f(x) = x \\sin(x)$\", linestyle=\"dotted\")\n",
    "plt.scatter(x_train, y_train, label=\"Observations\")\n",
    "plt.plot(x1, mean_prediction, label=\"Mean prediction\")\n",
    "plt.fill_between(\n",
    "    x.ravel(),\n",
    "    mean_prediction - 1.96 * std_prediction,\n",
    "    mean_prediction + 1.96 * std_prediction,\n",
    "    alpha=0.5,\n",
    "    label=r\"95% confidence interval\",\n",
    ")\n",
    "plt.legend()\n",
    "plt.xlabel(\"$x$\")\n",
    "plt.ylabel(\"$f(x)$\")\n",
    "_ = plt.title(\"Gaussian process regression on noise-free dataset\")"
   ]
  }
 ],
 "metadata": {
  "colab": {
   "name": "Hack3.0.ipynb",
   "provenance": []
  },
  "kernelspec": {
   "display_name": "Python 3 (ipykernel)",
   "language": "python",
   "name": "python3"
  },
  "language_info": {
   "codemirror_mode": {
    "name": "ipython",
    "version": 3
   },
   "file_extension": ".py",
   "mimetype": "text/x-python",
   "name": "python",
   "nbconvert_exporter": "python",
   "pygments_lexer": "ipython3",
   "version": "3.8.13"
  }
 },
 "nbformat": 4,
 "nbformat_minor": 1
}
